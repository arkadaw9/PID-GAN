{
 "cells": [
  {
   "cell_type": "code",
   "execution_count": 1,
   "metadata": {},
   "outputs": [],
   "source": [
    "import sys\n",
    "import argparse\n",
    "import os\n",
    "import torch\n",
    "from collections import OrderedDict\n",
    "import math\n",
    "import numpy as np\n",
    "import matplotlib.pyplot as plt\n",
    "import scipy.io\n",
    "from scipy.interpolate import griddata\n",
    "from mpl_toolkits.axes_grid1 import make_axes_locatable\n",
    "import matplotlib.gridspec as gridspec\n",
    "import torchvision.transforms as transforms\n",
    "from torchvision.utils import save_image\n",
    "from torch.utils.data import TensorDataset, DataLoader\n",
    "from torchvision import datasets\n",
    "from torch.autograd import Variable\n",
    "import torch.nn as nn\n",
    "import torch.nn.functional as F\n",
    "import torch\n",
    "import seaborn as sns\n",
    "import pylab as py\n",
    "import time\n",
    "from pyDOE import lhs\n",
    "import warnings\n",
    "sys.path.insert(0, '../../../Scripts/')\n",
    "from models_imperfect import Generator, Discriminator, Q_Net\n",
    "from pid import *\n",
    "# from ../Scripts/helper import *\n",
    "\n",
    "warnings.filterwarnings('ignore')\n",
    "\n",
    "np.random.seed(1234)"
   ]
  },
  {
   "cell_type": "code",
   "execution_count": 2,
   "metadata": {},
   "outputs": [],
   "source": [
    "# CUDA support \n",
    "if torch.cuda.is_available():\n",
    "    device = torch.device('cuda:1')\n",
    "else:\n",
    "    device = torch.device('cpu')"
   ]
  },
  {
   "cell_type": "markdown",
   "metadata": {},
   "source": [
    "## Hyper-parameters"
   ]
  },
  {
   "cell_type": "code",
   "execution_count": 3,
   "metadata": {},
   "outputs": [],
   "source": [
    "num_epochs = 10000\n",
    "lambda_val = 0.1\n",
    "lambda_q = 0.5\n",
    "tr_frac = 0.4\n",
    "\n",
    "#architecture for the models\n",
    "d_hid_dim = 50 \n",
    "d_num_layer = 2\n",
    "\n",
    "g_hid_dim = 50\n",
    "g_num_layer = 4\n",
    "\n",
    "q_hid_dim = 50\n",
    "q_num_layer = 3"
   ]
  },
  {
   "cell_type": "markdown",
   "metadata": {},
   "source": [
    "### Load Data"
   ]
  },
  {
   "cell_type": "code",
   "execution_count": 4,
   "metadata": {},
   "outputs": [],
   "source": [
    "data = np.loadtxt('../../../datasets/tossing_trajectories.txt')\n",
    "x = data[:, 0:6]\n",
    "labels = data[:, 6:]\n",
    "\n",
    "# training and test split\n",
    "n_obs = int(tr_frac * x.shape[0])\n",
    "train_x , train_y = x[:n_obs,:] , labels[:n_obs, :] \n",
    "test_x , test_y = x[n_obs:,:] , labels[n_obs:, :]\n",
    "\n",
    "noise_dim = 2\n",
    "data_dim = train_x.shape[1]\n",
    "out_dim = labels.shape[1]"
   ]
  },
  {
   "cell_type": "markdown",
   "metadata": {},
   "source": [
    "#### Models"
   ]
  },
  {
   "cell_type": "code",
   "execution_count": 5,
   "metadata": {},
   "outputs": [],
   "source": [
    "D = Discriminator(in_dim = (data_dim + out_dim + 1), out_dim = 1, hid_dim=d_hid_dim, num_layers=d_num_layer).to(device)\n",
    "G = Generator(in_dim = (noise_dim + data_dim), out_dim = out_dim, hid_dim=g_hid_dim, num_layers=g_num_layer).to(device)\n",
    "Q = Q_Net(in_dim=(out_dim + data_dim), out_dim=noise_dim, hid_dim=q_hid_dim, num_layers=q_num_layer).to(device)"
   ]
  },
  {
   "cell_type": "code",
   "execution_count": 6,
   "metadata": {},
   "outputs": [],
   "source": [
    "PID = Tossing_PID(train_x, train_y, test_x, test_y, G, D, Q, device, num_epochs, lambda_val, noise_dim)"
   ]
  },
  {
   "cell_type": "markdown",
   "metadata": {},
   "source": [
    "### Training"
   ]
  },
  {
   "cell_type": "code",
   "execution_count": 7,
   "metadata": {},
   "outputs": [
    {
     "name": "stdout",
     "output_type": "stream",
     "text": [
      "[Epoch 0/10000] [MSE loss: 3.974961] [G loss: 1.534164] [D loss: 8.440324] [Q loss: 4.142524] [Phy loss: 444.450264] [Adv G loss: -0.521032]\n",
      "[Epoch 100/10000] [MSE loss: 0.167551] [G loss: 13.524945] [D loss: 3.584815] [Q loss: 0.849222] [Phy loss: 27.464101] [Adv G loss: 12.979776]\n",
      "[Epoch 200/10000] [MSE loss: 0.306981] [G loss: 21.852914] [D loss: 3.001302] [Q loss: 0.468556] [Phy loss: 35.642198] [Adv G loss: 20.916393]\n",
      "[Epoch 300/10000] [MSE loss: 0.099735] [G loss: 16.830311] [D loss: 5.433719] [Q loss: 0.792401] [Phy loss: 10.138143] [Adv G loss: 15.639487]\n",
      "[Epoch 400/10000] [MSE loss: 0.104476] [G loss: 15.371575] [D loss: 6.396858] [Q loss: 0.423573] [Phy loss: 9.746002] [Adv G loss: 14.622990]\n",
      "[Epoch 500/10000] [MSE loss: 0.191786] [G loss: 16.322589] [D loss: 5.075573] [Q loss: 0.553257] [Phy loss: 20.125237] [Adv G loss: 16.025180]\n",
      "[Epoch 600/10000] [MSE loss: 0.105447] [G loss: 15.116018] [D loss: 5.393000] [Q loss: 0.442200] [Phy loss: 10.813882] [Adv G loss: 14.306361]\n",
      "[Epoch 700/10000] [MSE loss: 0.060446] [G loss: 11.810268] [D loss: 5.262802] [Q loss: 0.426116] [Phy loss: 6.158542] [Adv G loss: 11.214694]\n",
      "[Epoch 800/10000] [MSE loss: 0.100730] [G loss: 17.738473] [D loss: 5.291598] [Q loss: 0.662072] [Phy loss: 11.972519] [Adv G loss: 16.188434]\n",
      "[Epoch 900/10000] [MSE loss: 0.032476] [G loss: 10.825975] [D loss: 5.813805] [Q loss: 0.451430] [Phy loss: 3.600189] [Adv G loss: 9.874779]\n",
      "[Epoch 1000/10000] [MSE loss: 0.040871] [G loss: 12.035766] [D loss: 5.365714] [Q loss: 0.785532] [Phy loss: 4.708008] [Adv G loss: 10.951097]\n",
      "[Epoch 1100/10000] [MSE loss: 0.076205] [G loss: 13.505875] [D loss: 4.851616] [Q loss: 0.371136] [Phy loss: 9.544782] [Adv G loss: 13.002577]\n",
      "[Epoch 1200/10000] [MSE loss: 0.064577] [G loss: 12.218706] [D loss: 5.218282] [Q loss: 0.461620] [Phy loss: 7.554119] [Adv G loss: 11.733602]\n",
      "[Epoch 1300/10000] [MSE loss: 0.045502] [G loss: 11.976223] [D loss: 5.213245] [Q loss: 0.409706] [Phy loss: 5.620362] [Adv G loss: 10.845955]\n",
      "[Epoch 1400/10000] [MSE loss: 0.052264] [G loss: 14.457972] [D loss: 5.920838] [Q loss: 0.427213] [Phy loss: 7.000463] [Adv G loss: 14.126403]\n",
      "[Epoch 1500/10000] [MSE loss: 0.017516] [G loss: 11.590102] [D loss: 5.990184] [Q loss: 0.609764] [Phy loss: 2.735603] [Adv G loss: 10.140276]\n",
      "[Epoch 1600/10000] [MSE loss: 0.071603] [G loss: 17.124703] [D loss: 6.979498] [Q loss: 0.497274] [Phy loss: 9.386573] [Adv G loss: 16.196384]\n",
      "[Epoch 1700/10000] [MSE loss: 0.012729] [G loss: 9.984578] [D loss: 6.786805] [Q loss: 0.383563] [Phy loss: 2.370499] [Adv G loss: 9.345791]\n",
      "[Epoch 1800/10000] [MSE loss: 0.028974] [G loss: 12.667985] [D loss: 5.363820] [Q loss: 0.346147] [Phy loss: 4.750976] [Adv G loss: 12.283124]\n",
      "[Epoch 1900/10000] [MSE loss: 0.026258] [G loss: 12.892454] [D loss: 6.071826] [Q loss: 0.538501] [Phy loss: 4.339583] [Adv G loss: 11.973062]\n",
      "[Epoch 2000/10000] [MSE loss: 0.016917] [G loss: 11.007071] [D loss: 5.955238] [Q loss: 0.567451] [Phy loss: 3.437963] [Adv G loss: 10.261091]\n",
      "[Epoch 2100/10000] [MSE loss: 0.014038] [G loss: 11.998785] [D loss: 5.956584] [Q loss: 0.416252] [Phy loss: 2.854124] [Adv G loss: 11.287843]\n",
      "[Epoch 2200/10000] [MSE loss: 0.011799] [G loss: 11.829515] [D loss: 5.867206] [Q loss: 0.414526] [Phy loss: 2.733041] [Adv G loss: 11.259701]\n",
      "[Epoch 2300/10000] [MSE loss: 0.013419] [G loss: 12.905034] [D loss: 5.636593] [Q loss: 0.387091] [Phy loss: 3.138352] [Adv G loss: 12.142804]\n",
      "[Epoch 2400/10000] [MSE loss: 0.010562] [G loss: 12.194758] [D loss: 5.752856] [Q loss: 0.841916] [Phy loss: 2.689002] [Adv G loss: 11.113756]\n",
      "[Epoch 2500/10000] [MSE loss: 0.014333] [G loss: 13.375574] [D loss: 5.592077] [Q loss: 0.547213] [Phy loss: 3.109834] [Adv G loss: 12.304663]\n",
      "[Epoch 2600/10000] [MSE loss: 0.009499] [G loss: 12.411998] [D loss: 6.251135] [Q loss: 0.334116] [Phy loss: 2.656050] [Adv G loss: 11.919805]\n",
      "[Epoch 2700/10000] [MSE loss: 0.011385] [G loss: 12.272421] [D loss: 5.797143] [Q loss: 0.383665] [Phy loss: 2.998777] [Adv G loss: 11.380434]\n",
      "[Epoch 2800/10000] [MSE loss: 0.008698] [G loss: 13.223495] [D loss: 5.691722] [Q loss: 0.490865] [Phy loss: 2.776881] [Adv G loss: 12.573731]\n",
      "[Epoch 2900/10000] [MSE loss: 0.019766] [G loss: 14.655822] [D loss: 5.597157] [Q loss: 0.621366] [Phy loss: 3.794105] [Adv G loss: 13.566069]\n",
      "[Epoch 3000/10000] [MSE loss: 0.011166] [G loss: 12.500324] [D loss: 5.406576] [Q loss: 0.393537] [Phy loss: 2.966893] [Adv G loss: 11.801500]\n",
      "[Epoch 3100/10000] [MSE loss: 0.006241] [G loss: 12.479614] [D loss: 5.997675] [Q loss: 0.464510] [Phy loss: 2.624226] [Adv G loss: 11.748232]\n",
      "[Epoch 3200/10000] [MSE loss: 0.005287] [G loss: 11.445295] [D loss: 6.086794] [Q loss: 0.326399] [Phy loss: 2.440501] [Adv G loss: 11.083560]\n",
      "[Epoch 3300/10000] [MSE loss: 0.007081] [G loss: 12.105536] [D loss: 5.955752] [Q loss: 0.477674] [Phy loss: 2.729660] [Adv G loss: 11.448711]\n",
      "[Epoch 3400/10000] [MSE loss: 0.011629] [G loss: 12.799540] [D loss: 5.272739] [Q loss: 0.505511] [Phy loss: 3.100647] [Adv G loss: 12.154953]\n",
      "[Epoch 3500/10000] [MSE loss: 0.007902] [G loss: 14.146062] [D loss: 4.997984] [Q loss: 0.435453] [Phy loss: 2.809627] [Adv G loss: 13.280178]\n",
      "[Epoch 3600/10000] [MSE loss: 0.006858] [G loss: 13.552049] [D loss: 5.424731] [Q loss: 0.434699] [Phy loss: 2.607798] [Adv G loss: 12.767588]\n",
      "[Epoch 3700/10000] [MSE loss: 0.005743] [G loss: 12.435458] [D loss: 5.837656] [Q loss: 0.391331] [Phy loss: 2.441053] [Adv G loss: 12.050029]\n",
      "[Epoch 3800/10000] [MSE loss: 0.005042] [G loss: 12.657793] [D loss: 5.778289] [Q loss: 0.459391] [Phy loss: 2.297753] [Adv G loss: 12.076970]\n",
      "[Epoch 3900/10000] [MSE loss: 0.007602] [G loss: 13.486873] [D loss: 4.888281] [Q loss: 0.463451] [Phy loss: 2.797936] [Adv G loss: 12.943297]\n",
      "[Epoch 4000/10000] [MSE loss: 0.012242] [G loss: 17.309418] [D loss: 4.160188] [Q loss: 0.764082] [Phy loss: 3.141348] [Adv G loss: 15.742507]\n",
      "[Epoch 4100/10000] [MSE loss: 0.008971] [G loss: 14.787197] [D loss: 4.705412] [Q loss: 0.554834] [Phy loss: 3.065355] [Adv G loss: 14.447526]\n",
      "[Epoch 4200/10000] [MSE loss: 0.011054] [G loss: 18.118511] [D loss: 5.607524] [Q loss: 0.461162] [Phy loss: 3.170578] [Adv G loss: 17.736970]\n",
      "[Epoch 4300/10000] [MSE loss: 0.009013] [G loss: 16.064828] [D loss: 4.823475] [Q loss: 0.544453] [Phy loss: 2.937646] [Adv G loss: 15.544489]\n",
      "[Epoch 4400/10000] [MSE loss: 0.006240] [G loss: 13.675841] [D loss: 5.410536] [Q loss: 0.497460] [Phy loss: 2.764310] [Adv G loss: 13.340271]\n",
      "[Epoch 4500/10000] [MSE loss: 0.012090] [G loss: 19.279531] [D loss: 3.904248] [Q loss: 0.675089] [Phy loss: 3.109953] [Adv G loss: 18.354151]\n",
      "[Epoch 4600/10000] [MSE loss: 0.009287] [G loss: 16.693461] [D loss: 5.434856] [Q loss: 0.611473] [Phy loss: 2.712028] [Adv G loss: 15.905717]\n",
      "[Epoch 4700/10000] [MSE loss: 0.011658] [G loss: 18.122565] [D loss: 4.220811] [Q loss: 0.515000] [Phy loss: 3.030156] [Adv G loss: 17.653462]\n",
      "[Epoch 4800/10000] [MSE loss: 0.006111] [G loss: 16.025141] [D loss: 5.631905] [Q loss: 0.708680] [Phy loss: 2.291059] [Adv G loss: 15.637895]\n",
      "[Epoch 4900/10000] [MSE loss: 0.005125] [G loss: 13.434579] [D loss: 5.824276] [Q loss: 0.420036] [Phy loss: 2.429882] [Adv G loss: 13.061066]\n",
      "[Epoch 5000/10000] [MSE loss: 0.025656] [G loss: 22.345539] [D loss: 4.731427] [Q loss: 0.553065] [Phy loss: 4.667990] [Adv G loss: 21.604226]\n",
      "[Epoch 5100/10000] [MSE loss: 0.006979] [G loss: 18.205003] [D loss: 6.358308] [Q loss: 0.754694] [Phy loss: 2.578601] [Adv G loss: 17.769901]\n",
      "[Epoch 5200/10000] [MSE loss: 0.043287] [G loss: 25.629406] [D loss: 5.277483] [Q loss: 0.672893] [Phy loss: 6.716136] [Adv G loss: 25.227759]\n",
      "[Epoch 5300/10000] [MSE loss: 0.006135] [G loss: 16.161757] [D loss: 5.506164] [Q loss: 0.492845] [Phy loss: 2.400475] [Adv G loss: 15.471952]\n",
      "[Epoch 5400/10000] [MSE loss: 0.008358] [G loss: 16.001945] [D loss: 5.380188] [Q loss: 0.553680] [Phy loss: 2.725149] [Adv G loss: 15.432873]\n",
      "[Epoch 5500/10000] [MSE loss: 0.007499] [G loss: 16.636904] [D loss: 5.444560] [Q loss: 0.504916] [Phy loss: 2.750179] [Adv G loss: 16.350175]\n",
      "[Epoch 5600/10000] [MSE loss: 0.018871] [G loss: 22.052626] [D loss: 4.379529] [Q loss: 0.473479] [Phy loss: 4.404386] [Adv G loss: 21.551663]\n",
      "[Epoch 5700/10000] [MSE loss: 0.004385] [G loss: 16.254056] [D loss: 4.969817] [Q loss: 0.391187] [Phy loss: 2.299107] [Adv G loss: 15.683957]\n",
      "[Epoch 5800/10000] [MSE loss: 0.005466] [G loss: 16.969941] [D loss: 5.059554] [Q loss: 0.599867] [Phy loss: 2.624201] [Adv G loss: 16.338492]\n",
      "[Epoch 5900/10000] [MSE loss: 0.005503] [G loss: 16.895912] [D loss: 5.312519] [Q loss: 0.807217] [Phy loss: 2.273690] [Adv G loss: 15.697424]\n",
      "[Epoch 6000/10000] [MSE loss: 0.005559] [G loss: 18.534124] [D loss: 5.026957] [Q loss: 0.448930] [Phy loss: 2.467790] [Adv G loss: 18.051941]\n",
      "[Epoch 6100/10000] [MSE loss: 0.006388] [G loss: 17.827573] [D loss: 4.524564] [Q loss: 0.528716] [Phy loss: 2.638590] [Adv G loss: 17.432828]\n",
      "[Epoch 6200/10000] [MSE loss: 0.005493] [G loss: 16.782139] [D loss: 5.338855] [Q loss: 0.509522] [Phy loss: 2.502274] [Adv G loss: 16.178086]\n",
      "[Epoch 6300/10000] [MSE loss: 0.004623] [G loss: 17.732529] [D loss: 5.516758] [Q loss: 0.826995] [Phy loss: 2.455015] [Adv G loss: 16.667495]\n",
      "[Epoch 6400/10000] [MSE loss: 0.004429] [G loss: 16.256368] [D loss: 4.830684] [Q loss: 0.457629] [Phy loss: 2.322359] [Adv G loss: 15.782773]\n",
      "[Epoch 6500/10000] [MSE loss: 0.006912] [G loss: 19.569503] [D loss: 5.625066] [Q loss: 0.449305] [Phy loss: 2.685150] [Adv G loss: 19.279422]\n",
      "[Epoch 6600/10000] [MSE loss: 0.006112] [G loss: 18.917743] [D loss: 5.218583] [Q loss: 0.461422] [Phy loss: 2.534350] [Adv G loss: 18.478254]\n",
      "[Epoch 6700/10000] [MSE loss: 0.005481] [G loss: 17.953034] [D loss: 6.278589] [Q loss: 0.674152] [Phy loss: 2.416507] [Adv G loss: 17.056456]\n",
      "[Epoch 6800/10000] [MSE loss: 0.006547] [G loss: 19.336464] [D loss: 4.547379] [Q loss: 0.609697] [Phy loss: 2.570792] [Adv G loss: 18.864042]\n",
      "[Epoch 6900/10000] [MSE loss: 0.005321] [G loss: 19.999597] [D loss: 4.940928] [Q loss: 0.518256] [Phy loss: 2.440046] [Adv G loss: 19.700097]\n",
      "[Epoch 7000/10000] [MSE loss: 0.005880] [G loss: 20.341422] [D loss: 4.762500] [Q loss: 0.620300] [Phy loss: 2.626919] [Adv G loss: 19.647937]\n",
      "[Epoch 7100/10000] [MSE loss: 0.013237] [G loss: 27.868136] [D loss: 4.160705] [Q loss: 1.150907] [Phy loss: 3.657519] [Adv G loss: 26.754333]\n",
      "[Epoch 7200/10000] [MSE loss: 0.006048] [G loss: 18.670367] [D loss: 5.044496] [Q loss: 0.450858] [Phy loss: 2.526839] [Adv G loss: 18.211824]\n",
      "[Epoch 7300/10000] [MSE loss: 0.015762] [G loss: 26.425269] [D loss: 4.863320] [Q loss: 0.610853] [Phy loss: 4.086530] [Adv G loss: 25.803883]\n",
      "[Epoch 7400/10000] [MSE loss: 0.006896] [G loss: 21.973613] [D loss: 4.021971] [Q loss: 0.478848] [Phy loss: 2.804487] [Adv G loss: 21.718655]\n",
      "[Epoch 7500/10000] [MSE loss: 0.006326] [G loss: 18.740060] [D loss: 4.448678] [Q loss: 0.608884] [Phy loss: 2.646830] [Adv G loss: 18.418835]\n",
      "[Epoch 7600/10000] [MSE loss: 0.008130] [G loss: 23.604020] [D loss: 3.521232] [Q loss: 0.367446] [Phy loss: 2.903382] [Adv G loss: 23.298006]\n",
      "[Epoch 7700/10000] [MSE loss: 0.007735] [G loss: 23.434789] [D loss: 3.915259] [Q loss: 0.525601] [Phy loss: 2.907613] [Adv G loss: 22.874098]\n",
      "[Epoch 7800/10000] [MSE loss: 0.005538] [G loss: 19.296148] [D loss: 4.837084] [Q loss: 0.416072] [Phy loss: 2.342974] [Adv G loss: 18.959398]\n",
      "[Epoch 7900/10000] [MSE loss: 0.005286] [G loss: 21.775182] [D loss: 4.557948] [Q loss: 0.470310] [Phy loss: 2.531301] [Adv G loss: 21.358154]\n",
      "[Epoch 8000/10000] [MSE loss: 0.004510] [G loss: 19.846847] [D loss: 4.827749] [Q loss: 0.457201] [Phy loss: 2.620943] [Adv G loss: 19.299711]\n",
      "[Epoch 8100/10000] [MSE loss: 0.007128] [G loss: 25.313606] [D loss: 5.569000] [Q loss: 0.527465] [Phy loss: 2.940851] [Adv G loss: 25.029958]\n",
      "[Epoch 8200/10000] [MSE loss: 0.006927] [G loss: 20.306857] [D loss: 4.196101] [Q loss: 0.438144] [Phy loss: 2.819952] [Adv G loss: 20.053666]\n",
      "[Epoch 8300/10000] [MSE loss: 0.006119] [G loss: 20.567026] [D loss: 5.059072] [Q loss: 0.462153] [Phy loss: 2.541785] [Adv G loss: 20.204981]\n",
      "[Epoch 8400/10000] [MSE loss: 0.004183] [G loss: 19.025216] [D loss: 4.511596] [Q loss: 0.548337] [Phy loss: 2.305402] [Adv G loss: 18.213709]\n",
      "[Epoch 8500/10000] [MSE loss: 0.005048] [G loss: 22.959219] [D loss: 4.932554] [Q loss: 0.559203] [Phy loss: 2.414303] [Adv G loss: 22.492314]\n",
      "[Epoch 8600/10000] [MSE loss: 0.008831] [G loss: 22.948848] [D loss: 5.457334] [Q loss: 0.667456] [Phy loss: 3.065859] [Adv G loss: 22.612746]\n",
      "[Epoch 8700/10000] [MSE loss: 0.007061] [G loss: 24.520716] [D loss: 4.157908] [Q loss: 0.476029] [Phy loss: 2.758936] [Adv G loss: 23.463089]\n",
      "[Epoch 8800/10000] [MSE loss: 0.010234] [G loss: 23.110129] [D loss: 7.723041] [Q loss: 0.517639] [Phy loss: 3.203711] [Adv G loss: 22.684628]\n",
      "[Epoch 8900/10000] [MSE loss: 0.006517] [G loss: 23.789725] [D loss: 4.317293] [Q loss: 0.521002] [Phy loss: 2.809776] [Adv G loss: 23.139437]\n",
      "[Epoch 9000/10000] [MSE loss: 0.004483] [G loss: 18.403584] [D loss: 5.604453] [Q loss: 0.367407] [Phy loss: 2.361039] [Adv G loss: 18.155976]\n",
      "[Epoch 9100/10000] [MSE loss: 0.032545] [G loss: 37.078193] [D loss: 4.074061] [Q loss: 0.616849] [Phy loss: 5.708320] [Adv G loss: 36.142116]\n",
      "[Epoch 9200/10000] [MSE loss: 0.005084] [G loss: 19.176472] [D loss: 4.633009] [Q loss: 0.755939] [Phy loss: 2.403676] [Adv G loss: 18.830876]\n",
      "[Epoch 9300/10000] [MSE loss: 0.009697] [G loss: 26.556718] [D loss: 4.738064] [Q loss: 0.468417] [Phy loss: 3.313177] [Adv G loss: 26.284435]\n",
      "[Epoch 9400/10000] [MSE loss: 0.006747] [G loss: 22.014026] [D loss: 4.691484] [Q loss: 0.466440] [Phy loss: 2.751005] [Adv G loss: 21.683033]\n",
      "[Epoch 9500/10000] [MSE loss: 0.003729] [G loss: 17.191972] [D loss: 5.076001] [Q loss: 0.497106] [Phy loss: 2.309028] [Adv G loss: 16.735565]\n",
      "[Epoch 9600/10000] [MSE loss: 0.004507] [G loss: 20.339532] [D loss: 4.731423] [Q loss: 0.374853] [Phy loss: 2.431892] [Adv G loss: 20.107685]\n",
      "[Epoch 9700/10000] [MSE loss: 0.005628] [G loss: 21.613131] [D loss: 4.238331] [Q loss: 0.571523] [Phy loss: 2.508600] [Adv G loss: 21.313797]\n",
      "[Epoch 9800/10000] [MSE loss: 0.009236] [G loss: 27.985472] [D loss: 4.091007] [Q loss: 0.826952] [Phy loss: 2.979676] [Adv G loss: 26.364631]\n",
      "[Epoch 9900/10000] [MSE loss: 0.006488] [G loss: 24.738893] [D loss: 4.177073] [Q loss: 0.389722] [Phy loss: 2.739080] [Adv G loss: 24.347447]\n"
     ]
    }
   ],
   "source": [
    "PID.train()"
   ]
  },
  {
   "cell_type": "code",
   "execution_count": 8,
   "metadata": {},
   "outputs": [
    {
     "name": "stdout",
     "output_type": "stream",
     "text": [
      "MSE on Training Set :  0.07892624\n",
      "Physical Consistency:  0.5669054\n"
     ]
    }
   ],
   "source": [
    "nsamples = 500\n",
    "train_predictions_list = []\n",
    "for run in range(nsamples):\n",
    "    G_train_noise = PID.sample_noise(PID.train_x.shape[0], PID.noise_dim).to(device)\n",
    "    train_predictions = PID.G.forward(torch.cat([PID.train_x, G_train_noise], dim=1)).detach().cpu().numpy()\n",
    "    train_predictions = (train_predictions * PID.Ystd) + PID.Ymean\n",
    "    train_predictions_list.append(train_predictions)\n",
    "\n",
    "train_predictions = np.mean(train_predictions_list, axis=0)\n",
    "train_predictions_dev = np.var(train_predictions_list, axis=0)\n",
    "train_predictions = torch.Tensor(train_predictions).float().to(device)\n",
    "\n",
    "std_y_t = torch.Tensor(PID.Ystd).float().to(device)\n",
    "mean_y_t = torch.Tensor(PID.Ymean).float().to(device)\n",
    "std_x_t = torch.Tensor(PID.Xstd).float().to(device)\n",
    "mean_x_t = torch.Tensor(PID.Xmean).float().to(device)\n",
    "\n",
    "train_y = (PID.train_y * std_y_t) + mean_y_t\n",
    "train_x = (PID.train_x * std_x_t) + mean_x_t\n",
    "\n",
    "mse_train = ((train_predictions - train_y)**2).mean()\n",
    "phy_train = torch.mean(PID.physics_loss(train_x, train_predictions, [0, 1], [0, 1])).detach().cpu().numpy()\n",
    "\n",
    "print(\"MSE on Training Set : \", mse_train.detach().cpu().numpy())\n",
    "print(\"Physical Consistency: \", phy_train)"
   ]
  },
  {
   "cell_type": "code",
   "execution_count": 9,
   "metadata": {},
   "outputs": [
    {
     "name": "stdout",
     "output_type": "stream",
     "text": [
      "MSE on Test Set :  0.08371187\n",
      "Physical Consistency:  0.6453264\n"
     ]
    }
   ],
   "source": [
    "test_predictions_list = []\n",
    "for run in range(nsamples):\n",
    "    G_test_noise = PID.sample_noise(PID.test_x.shape[0], PID.noise_dim).to(device)\n",
    "    test_predictions = PID.G.forward(torch.cat([PID.test_x, G_test_noise], dim=1)).detach().cpu().numpy()\n",
    "    test_predictions = (test_predictions * PID.Ystd) + PID.Ymean\n",
    "    test_predictions_list.append(test_predictions)\n",
    "\n",
    "test_predictions = np.mean(test_predictions_list, axis=0)\n",
    "test_predictions_dev = np.var(test_predictions_list, axis=0)\n",
    "test_predictions = torch.Tensor(test_predictions).float().to(device)\n",
    "\n",
    "test_y = (PID.test_y * std_y_t) + mean_y_t\n",
    "test_x = (PID.test_x * std_x_t) + mean_x_t\n",
    "\n",
    "mse_test = ((test_predictions - test_y)**2).mean()\n",
    "phy_test = torch.mean(PID.physics_loss(test_x, test_predictions, [0, 1], [0, 1])).detach().cpu().numpy()\n",
    "\n",
    "print(\"MSE on Test Set : \", mse_test.detach().cpu().numpy())\n",
    "print(\"Physical Consistency: \", phy_test)"
   ]
  },
  {
   "cell_type": "code",
   "execution_count": null,
   "metadata": {},
   "outputs": [],
   "source": []
  }
 ],
 "metadata": {
  "kernelspec": {
   "display_name": "Python 3",
   "language": "python",
   "name": "python3"
  },
  "language_info": {
   "codemirror_mode": {
    "name": "ipython",
    "version": 3
   },
   "file_extension": ".py",
   "mimetype": "text/x-python",
   "name": "python",
   "nbconvert_exporter": "python",
   "pygments_lexer": "ipython3",
   "version": "3.7.6"
  }
 },
 "nbformat": 4,
 "nbformat_minor": 4
}
