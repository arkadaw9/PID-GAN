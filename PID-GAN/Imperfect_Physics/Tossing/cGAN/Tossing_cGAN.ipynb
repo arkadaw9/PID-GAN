{
 "cells": [
  {
   "cell_type": "code",
   "execution_count": 1,
   "metadata": {},
   "outputs": [],
   "source": [
    "import sys\n",
    "import argparse\n",
    "import os\n",
    "import torch\n",
    "from collections import OrderedDict\n",
    "import math\n",
    "import numpy as np\n",
    "import matplotlib.pyplot as plt\n",
    "import scipy.io\n",
    "from scipy.interpolate import griddata\n",
    "from mpl_toolkits.axes_grid1 import make_axes_locatable\n",
    "import matplotlib.gridspec as gridspec\n",
    "import torchvision.transforms as transforms\n",
    "from torchvision.utils import save_image\n",
    "from torch.utils.data import TensorDataset, DataLoader\n",
    "from torchvision import datasets\n",
    "from torch.autograd import Variable\n",
    "import torch.nn as nn\n",
    "import torch.nn.functional as F\n",
    "import torch\n",
    "import seaborn as sns\n",
    "import pylab as py\n",
    "import time\n",
    "from pyDOE import lhs\n",
    "import warnings\n",
    "sys.path.insert(0, '../../../Scripts/')\n",
    "from models_imperfect import Generator, Discriminator, Q_Net\n",
    "from cGAN import *\n",
    "# from ../Scripts/helper import *\n",
    "\n",
    "warnings.filterwarnings('ignore')\n",
    "\n",
    "np.random.seed(1234)"
   ]
  },
  {
   "cell_type": "code",
   "execution_count": 2,
   "metadata": {},
   "outputs": [],
   "source": [
    "# CUDA support \n",
    "if torch.cuda.is_available():\n",
    "    device = torch.device('cuda:3')\n",
    "else:\n",
    "    device = torch.device('cpu')"
   ]
  },
  {
   "cell_type": "markdown",
   "metadata": {},
   "source": [
    "## Hyper-parameters"
   ]
  },
  {
   "cell_type": "code",
   "execution_count": 3,
   "metadata": {},
   "outputs": [],
   "source": [
    "num_epochs = 10000\n",
    "lambda_val = 0\n",
    "lambda_q = 0.5\n",
    "tr_frac = 0.4\n",
    "\n",
    "#architecture for the models\n",
    "d_hid_dim = 50 \n",
    "d_num_layer = 2\n",
    "\n",
    "g_hid_dim = 50\n",
    "g_num_layer = 4\n",
    "\n",
    "q_hid_dim = 50\n",
    "q_num_layer = 3"
   ]
  },
  {
   "cell_type": "markdown",
   "metadata": {},
   "source": [
    "### Load Data"
   ]
  },
  {
   "cell_type": "code",
   "execution_count": 4,
   "metadata": {},
   "outputs": [],
   "source": [
    "data = np.loadtxt('../../../datasets/tossing_trajectories.txt')\n",
    "x = data[:, 0:6]\n",
    "labels = data[:, 6:]\n",
    "\n",
    "# training and test split\n",
    "n_obs = int(tr_frac * x.shape[0])\n",
    "train_x , train_y = x[:n_obs,:] , labels[:n_obs, :] \n",
    "test_x , test_y = x[n_obs:,:] , labels[n_obs:, :]\n",
    "\n",
    "noise_dim = 2\n",
    "data_dim = train_x.shape[1]\n",
    "out_dim = labels.shape[1]"
   ]
  },
  {
   "cell_type": "markdown",
   "metadata": {},
   "source": [
    "#### Models"
   ]
  },
  {
   "cell_type": "code",
   "execution_count": 5,
   "metadata": {},
   "outputs": [],
   "source": [
    "D = Discriminator(in_dim = (data_dim + out_dim), out_dim = 1, hid_dim=d_hid_dim, num_layers=d_num_layer).to(device)\n",
    "G = Generator(in_dim = (noise_dim + data_dim), out_dim = out_dim, hid_dim=g_hid_dim, num_layers=g_num_layer).to(device)\n",
    "Q = Q_Net(in_dim=(out_dim + data_dim), out_dim=noise_dim, hid_dim=q_hid_dim, num_layers=q_num_layer).to(device)"
   ]
  },
  {
   "cell_type": "code",
   "execution_count": 6,
   "metadata": {},
   "outputs": [],
   "source": [
    "cGAN = Tossing_cGAN(train_x, train_y, test_x, test_y, G, D, Q, device, num_epochs, lambda_val, noise_dim)"
   ]
  },
  {
   "cell_type": "markdown",
   "metadata": {},
   "source": [
    "### Training"
   ]
  },
  {
   "cell_type": "code",
   "execution_count": 7,
   "metadata": {},
   "outputs": [
    {
     "name": "stdout",
     "output_type": "stream",
     "text": [
      "[Epoch 0/10000] [MSE loss: 4.313746] [G loss: 2.585699] [D loss: 5.459814] [Q loss: 3.931562] [Phy loss: 446.808578] [Adv G loss: 0.507475]\n",
      "[Epoch 100/10000] [MSE loss: 0.326428] [G loss: 1.146808] [D loss: 5.304407] [Q loss: 0.933784] [Phy loss: 44.076407] [Adv G loss: 0.779352]\n",
      "[Epoch 200/10000] [MSE loss: 0.414620] [G loss: 1.504537] [D loss: 5.396243] [Q loss: 0.580448] [Phy loss: 43.932301] [Adv G loss: 1.330773]\n",
      "[Epoch 300/10000] [MSE loss: 0.488610] [G loss: 3.156284] [D loss: 4.435032] [Q loss: 0.402177] [Phy loss: 37.386539] [Adv G loss: 3.018759]\n",
      "[Epoch 400/10000] [MSE loss: 0.309339] [G loss: 6.245313] [D loss: 4.039273] [Q loss: 0.328128] [Phy loss: 40.285904] [Adv G loss: 6.157700]\n",
      "[Epoch 500/10000] [MSE loss: 0.306792] [G loss: 8.331911] [D loss: 3.512184] [Q loss: 0.351914] [Phy loss: 39.721399] [Adv G loss: 8.179800]\n",
      "[Epoch 600/10000] [MSE loss: 0.242978] [G loss: 8.685697] [D loss: 4.915272] [Q loss: 0.144462] [Phy loss: 36.303698] [Adv G loss: 8.595669]\n",
      "[Epoch 700/10000] [MSE loss: 0.242388] [G loss: 8.874962] [D loss: 4.028713] [Q loss: 0.338893] [Phy loss: 34.912467] [Adv G loss: 8.706445]\n",
      "[Epoch 800/10000] [MSE loss: 0.299281] [G loss: 14.379018] [D loss: 1.771813] [Q loss: 0.211945] [Phy loss: 36.013727] [Adv G loss: 14.219485]\n",
      "[Epoch 900/10000] [MSE loss: 0.266686] [G loss: 14.642708] [D loss: 4.444812] [Q loss: 0.418387] [Phy loss: 41.369783] [Adv G loss: 14.451886]\n",
      "[Epoch 1000/10000] [MSE loss: 0.323767] [G loss: 15.313596] [D loss: 2.679388] [Q loss: 0.315593] [Phy loss: 40.660633] [Adv G loss: 15.173294]\n",
      "[Epoch 1100/10000] [MSE loss: 0.300939] [G loss: 14.388420] [D loss: 2.541764] [Q loss: 0.325343] [Phy loss: 38.936334] [Adv G loss: 14.229668]\n",
      "[Epoch 1200/10000] [MSE loss: 0.295153] [G loss: 12.602646] [D loss: 2.217029] [Q loss: 0.418154] [Phy loss: 35.721696] [Adv G loss: 12.379614]\n",
      "[Epoch 1300/10000] [MSE loss: 0.244228] [G loss: 20.992727] [D loss: 1.426495] [Q loss: 0.383321] [Phy loss: 34.205514] [Adv G loss: 20.851339]\n",
      "[Epoch 1400/10000] [MSE loss: 0.226906] [G loss: 16.878118] [D loss: 2.452432] [Q loss: 0.262368] [Phy loss: 33.799170] [Adv G loss: 16.764310]\n",
      "[Epoch 1500/10000] [MSE loss: 0.270289] [G loss: 19.357516] [D loss: 1.285177] [Q loss: 0.360773] [Phy loss: 39.108332] [Adv G loss: 19.186526]\n",
      "[Epoch 1600/10000] [MSE loss: 0.269628] [G loss: 15.020293] [D loss: 3.374570] [Q loss: 0.291809] [Phy loss: 38.730342] [Adv G loss: 14.864446]\n",
      "[Epoch 1700/10000] [MSE loss: 0.268548] [G loss: 23.420485] [D loss: 1.461519] [Q loss: 0.231422] [Phy loss: 35.727198] [Adv G loss: 23.286861]\n",
      "[Epoch 1800/10000] [MSE loss: 0.230733] [G loss: 18.757087] [D loss: 1.768291] [Q loss: 0.243462] [Phy loss: 38.075708] [Adv G loss: 18.626019]\n",
      "[Epoch 1900/10000] [MSE loss: 0.304415] [G loss: 23.649736] [D loss: 1.129914] [Q loss: 0.345093] [Phy loss: 39.577083] [Adv G loss: 23.496099]\n",
      "[Epoch 2000/10000] [MSE loss: 0.324676] [G loss: 11.661628] [D loss: 3.317300] [Q loss: 0.450416] [Phy loss: 42.440774] [Adv G loss: 11.452977]\n",
      "[Epoch 2100/10000] [MSE loss: 0.261480] [G loss: 20.034487] [D loss: 2.958955] [Q loss: 0.568062] [Phy loss: 42.426129] [Adv G loss: 19.786836]\n",
      "[Epoch 2200/10000] [MSE loss: 0.244928] [G loss: 13.974851] [D loss: 2.733438] [Q loss: 0.279581] [Phy loss: 38.833276] [Adv G loss: 13.843853]\n",
      "[Epoch 2300/10000] [MSE loss: 0.263757] [G loss: 19.772753] [D loss: 1.899718] [Q loss: 0.412973] [Phy loss: 35.263412] [Adv G loss: 19.603965]\n",
      "[Epoch 2400/10000] [MSE loss: 0.198148] [G loss: 14.778596] [D loss: 3.076326] [Q loss: 0.529523] [Phy loss: 34.898305] [Adv G loss: 14.608064]\n",
      "[Epoch 2500/10000] [MSE loss: 0.210801] [G loss: 15.559846] [D loss: 2.177398] [Q loss: 0.449568] [Phy loss: 36.359542] [Adv G loss: 15.228540]\n",
      "[Epoch 2600/10000] [MSE loss: 0.192690] [G loss: 14.408170] [D loss: 2.907975] [Q loss: 0.485553] [Phy loss: 34.982374] [Adv G loss: 14.198893]\n",
      "[Epoch 2700/10000] [MSE loss: 0.199400] [G loss: 14.408372] [D loss: 2.814004] [Q loss: 0.387840] [Phy loss: 36.132935] [Adv G loss: 14.195996]\n",
      "[Epoch 2800/10000] [MSE loss: 0.207270] [G loss: 24.779815] [D loss: 1.716923] [Q loss: 0.637593] [Phy loss: 34.022390] [Adv G loss: 24.455796]\n",
      "[Epoch 2900/10000] [MSE loss: 0.216190] [G loss: 17.787498] [D loss: 2.152308] [Q loss: 0.498138] [Phy loss: 37.489928] [Adv G loss: 17.464296]\n",
      "[Epoch 3000/10000] [MSE loss: 0.212498] [G loss: 18.469568] [D loss: 3.433653] [Q loss: 0.701843] [Phy loss: 34.061814] [Adv G loss: 18.222655]\n",
      "[Epoch 3100/10000] [MSE loss: 0.198759] [G loss: 11.411918] [D loss: 3.014899] [Q loss: 0.647291] [Phy loss: 32.578095] [Adv G loss: 11.098165]\n",
      "[Epoch 3200/10000] [MSE loss: 0.167888] [G loss: 15.866593] [D loss: 3.800790] [Q loss: 0.454864] [Phy loss: 32.983707] [Adv G loss: 15.677044]\n",
      "[Epoch 3300/10000] [MSE loss: 0.192066] [G loss: 19.261474] [D loss: 5.331506] [Q loss: 0.461384] [Phy loss: 32.816386] [Adv G loss: 18.993933]\n",
      "[Epoch 3400/10000] [MSE loss: 0.186039] [G loss: 19.082405] [D loss: 3.728731] [Q loss: 0.437341] [Phy loss: 33.541179] [Adv G loss: 18.829486]\n",
      "[Epoch 3500/10000] [MSE loss: 0.241998] [G loss: 16.977860] [D loss: 3.416401] [Q loss: 0.617751] [Phy loss: 32.424691] [Adv G loss: 16.594653]\n",
      "[Epoch 3600/10000] [MSE loss: 0.189687] [G loss: 15.543425] [D loss: 3.374947] [Q loss: 0.739998] [Phy loss: 29.311169] [Adv G loss: 15.172654]\n",
      "[Epoch 3700/10000] [MSE loss: 0.172098] [G loss: 15.317892] [D loss: 2.657733] [Q loss: 0.650544] [Phy loss: 30.043261] [Adv G loss: 14.995005]\n",
      "[Epoch 3800/10000] [MSE loss: 0.148264] [G loss: 11.633090] [D loss: 4.206609] [Q loss: 0.410678] [Phy loss: 28.215593] [Adv G loss: 11.455245]\n",
      "[Epoch 3900/10000] [MSE loss: 0.169279] [G loss: 16.231452] [D loss: 4.203414] [Q loss: 0.544382] [Phy loss: 29.687488] [Adv G loss: 15.927603]\n",
      "[Epoch 4000/10000] [MSE loss: 0.145648] [G loss: 14.556086] [D loss: 3.068482] [Q loss: 0.566194] [Phy loss: 25.967385] [Adv G loss: 14.307755]\n",
      "[Epoch 4100/10000] [MSE loss: 0.133084] [G loss: 14.454930] [D loss: 3.362475] [Q loss: 0.598567] [Phy loss: 25.223781] [Adv G loss: 14.175067]\n",
      "[Epoch 4200/10000] [MSE loss: 0.122535] [G loss: 15.395283] [D loss: 3.867361] [Q loss: 0.830477] [Phy loss: 25.742527] [Adv G loss: 15.046101]\n",
      "[Epoch 4300/10000] [MSE loss: 0.157464] [G loss: 15.241058] [D loss: 2.897095] [Q loss: 0.681921] [Phy loss: 24.326917] [Adv G loss: 14.827672]\n",
      "[Epoch 4400/10000] [MSE loss: 0.132375] [G loss: 17.113697] [D loss: 2.863626] [Q loss: 0.721714] [Phy loss: 24.632306] [Adv G loss: 16.749155]\n",
      "[Epoch 4500/10000] [MSE loss: 0.140007] [G loss: 14.438458] [D loss: 2.505244] [Q loss: 0.806454] [Phy loss: 22.304805] [Adv G loss: 13.949893]\n",
      "[Epoch 4600/10000] [MSE loss: 0.103422] [G loss: 11.455080] [D loss: 3.683439] [Q loss: 0.672745] [Phy loss: 22.458850] [Adv G loss: 11.091633]\n",
      "[Epoch 4700/10000] [MSE loss: 0.102558] [G loss: 16.548694] [D loss: 3.260885] [Q loss: 0.757092] [Phy loss: 20.533935] [Adv G loss: 16.183788]\n",
      "[Epoch 4800/10000] [MSE loss: 0.112811] [G loss: 17.757611] [D loss: 2.502542] [Q loss: 0.925410] [Phy loss: 21.662240] [Adv G loss: 17.329845]\n",
      "[Epoch 4900/10000] [MSE loss: 0.132735] [G loss: 25.053880] [D loss: 2.306955] [Q loss: 1.113985] [Phy loss: 20.420271] [Adv G loss: 24.552495]\n",
      "[Epoch 5000/10000] [MSE loss: 0.115139] [G loss: 14.874540] [D loss: 2.058224] [Q loss: 0.745814] [Phy loss: 19.506145] [Adv G loss: 14.449208]\n",
      "[Epoch 5100/10000] [MSE loss: 0.119187] [G loss: 18.881042] [D loss: 2.322001] [Q loss: 1.137669] [Phy loss: 17.489765] [Adv G loss: 18.303036]\n",
      "[Epoch 5200/10000] [MSE loss: 0.099351] [G loss: 21.674829] [D loss: 2.662517] [Q loss: 1.059087] [Phy loss: 15.413473] [Adv G loss: 21.233851]\n",
      "[Epoch 5300/10000] [MSE loss: 0.067232] [G loss: 13.089169] [D loss: 3.092114] [Q loss: 0.802274] [Phy loss: 15.333353] [Adv G loss: 12.722030]\n",
      "[Epoch 5400/10000] [MSE loss: 0.074702] [G loss: 16.857675] [D loss: 2.463504] [Q loss: 1.197332] [Phy loss: 15.734847] [Adv G loss: 16.167562]\n",
      "[Epoch 5500/10000] [MSE loss: 0.081907] [G loss: 15.761124] [D loss: 2.017478] [Q loss: 1.188678] [Phy loss: 15.035436] [Adv G loss: 15.195764]\n",
      "[Epoch 5600/10000] [MSE loss: 0.067515] [G loss: 21.547618] [D loss: 3.728294] [Q loss: 1.239713] [Phy loss: 14.377660] [Adv G loss: 21.036901]\n",
      "[Epoch 5700/10000] [MSE loss: 0.067844] [G loss: 16.885993] [D loss: 3.803882] [Q loss: 0.805681] [Phy loss: 13.285638] [Adv G loss: 16.422132]\n",
      "[Epoch 5800/10000] [MSE loss: 0.074292] [G loss: 22.587600] [D loss: 2.800413] [Q loss: 1.665746] [Phy loss: 12.167474] [Adv G loss: 22.042465]\n",
      "[Epoch 5900/10000] [MSE loss: 0.053296] [G loss: 17.240553] [D loss: 4.204247] [Q loss: 0.962772] [Phy loss: 11.338721] [Adv G loss: 16.702368]\n",
      "[Epoch 6000/10000] [MSE loss: 0.068690] [G loss: 16.638258] [D loss: 3.952355] [Q loss: 1.411524] [Phy loss: 11.722661] [Adv G loss: 15.988507]\n",
      "[Epoch 6100/10000] [MSE loss: 0.059951] [G loss: 20.656687] [D loss: 4.006571] [Q loss: 1.157984] [Phy loss: 12.424201] [Adv G loss: 20.103528]\n",
      "[Epoch 6200/10000] [MSE loss: 0.050875] [G loss: 16.667752] [D loss: 3.104576] [Q loss: 1.012413] [Phy loss: 10.295916] [Adv G loss: 16.101598]\n",
      "[Epoch 6300/10000] [MSE loss: 0.054838] [G loss: 15.756825] [D loss: 2.109396] [Q loss: 1.193632] [Phy loss: 10.298912] [Adv G loss: 15.176891]\n",
      "[Epoch 6400/10000] [MSE loss: 0.041317] [G loss: 12.162453] [D loss: 3.268990] [Q loss: 1.034446] [Phy loss: 9.614341] [Adv G loss: 11.606480]\n",
      "[Epoch 6500/10000] [MSE loss: 0.046692] [G loss: 14.965564] [D loss: 2.829272] [Q loss: 1.129032] [Phy loss: 9.620103] [Adv G loss: 14.382611]\n",
      "[Epoch 6600/10000] [MSE loss: 0.043751] [G loss: 15.132056] [D loss: 3.108625] [Q loss: 0.877769] [Phy loss: 9.526175] [Adv G loss: 14.666263]\n",
      "[Epoch 6700/10000] [MSE loss: 0.065176] [G loss: 27.123214] [D loss: 3.754104] [Q loss: 1.415799] [Phy loss: 8.723930] [Adv G loss: 26.535251]\n",
      "[Epoch 6800/10000] [MSE loss: 0.037453] [G loss: 25.491235] [D loss: 3.615950] [Q loss: 1.104495] [Phy loss: 8.787155] [Adv G loss: 24.978227]\n",
      "[Epoch 6900/10000] [MSE loss: 0.049344] [G loss: 17.292995] [D loss: 2.304455] [Q loss: 0.777485] [Phy loss: 8.532752] [Adv G loss: 16.812191]\n",
      "[Epoch 7000/10000] [MSE loss: 0.043644] [G loss: 17.310578] [D loss: 2.716516] [Q loss: 1.247451] [Phy loss: 8.067648] [Adv G loss: 16.717162]\n",
      "[Epoch 7100/10000] [MSE loss: 0.034300] [G loss: 11.869075] [D loss: 3.383184] [Q loss: 0.969183] [Phy loss: 8.238587] [Adv G loss: 11.419839]\n",
      "[Epoch 7200/10000] [MSE loss: 0.041877] [G loss: 22.989941] [D loss: 2.416705] [Q loss: 1.112320] [Phy loss: 7.938031] [Adv G loss: 22.511374]\n",
      "[Epoch 7300/10000] [MSE loss: 0.046693] [G loss: 33.081753] [D loss: 3.977104] [Q loss: 1.358666] [Phy loss: 7.591784] [Adv G loss: 32.395894]\n",
      "[Epoch 7400/10000] [MSE loss: 0.037712] [G loss: 19.590380] [D loss: 4.270791] [Q loss: 0.853732] [Phy loss: 7.424815] [Adv G loss: 19.108691]\n",
      "[Epoch 7500/10000] [MSE loss: 0.022952] [G loss: 21.253858] [D loss: 4.795967] [Q loss: 1.210451] [Phy loss: 7.255447] [Adv G loss: 20.521094]\n",
      "[Epoch 7600/10000] [MSE loss: 0.035476] [G loss: 19.242951] [D loss: 2.702772] [Q loss: 0.920287] [Phy loss: 8.711988] [Adv G loss: 18.670141]\n",
      "[Epoch 7700/10000] [MSE loss: 0.040598] [G loss: 26.348799] [D loss: 3.304919] [Q loss: 1.165492] [Phy loss: 9.683466] [Adv G loss: 25.743909]\n",
      "[Epoch 7800/10000] [MSE loss: 0.042733] [G loss: 17.275486] [D loss: 4.290309] [Q loss: 0.935038] [Phy loss: 7.755823] [Adv G loss: 16.737662]\n",
      "[Epoch 7900/10000] [MSE loss: 0.024970] [G loss: 12.051930] [D loss: 3.732881] [Q loss: 1.207080] [Phy loss: 7.545256] [Adv G loss: 11.336851]\n",
      "[Epoch 8000/10000] [MSE loss: 0.031339] [G loss: 18.905978] [D loss: 3.726158] [Q loss: 1.051749] [Phy loss: 7.428560] [Adv G loss: 18.289681]\n",
      "[Epoch 8100/10000] [MSE loss: 0.039433] [G loss: 13.743727] [D loss: 2.943919] [Q loss: 0.987790] [Phy loss: 8.486702] [Adv G loss: 13.304459]\n",
      "[Epoch 8200/10000] [MSE loss: 0.047072] [G loss: 24.000682] [D loss: 1.822744] [Q loss: 0.816979] [Phy loss: 9.443720] [Adv G loss: 23.485178]\n",
      "[Epoch 8300/10000] [MSE loss: 0.036950] [G loss: 17.113131] [D loss: 3.090864] [Q loss: 0.738655] [Phy loss: 7.514419] [Adv G loss: 16.771385]\n",
      "[Epoch 8400/10000] [MSE loss: 0.031432] [G loss: 15.264941] [D loss: 3.031618] [Q loss: 0.598311] [Phy loss: 7.965151] [Adv G loss: 14.952246]\n",
      "[Epoch 8500/10000] [MSE loss: 0.037972] [G loss: 23.047938] [D loss: 3.939650] [Q loss: 1.194373] [Phy loss: 8.385031] [Adv G loss: 22.497517]\n",
      "[Epoch 8600/10000] [MSE loss: 0.033550] [G loss: 23.725274] [D loss: 3.384811] [Q loss: 0.940270] [Phy loss: 8.130471] [Adv G loss: 23.156085]\n",
      "[Epoch 8700/10000] [MSE loss: 0.038528] [G loss: 17.405841] [D loss: 2.581194] [Q loss: 0.999877] [Phy loss: 7.842397] [Adv G loss: 16.790932]\n",
      "[Epoch 8800/10000] [MSE loss: 0.026289] [G loss: 20.781094] [D loss: 3.966398] [Q loss: 1.137953] [Phy loss: 6.120188] [Adv G loss: 20.118171]\n",
      "[Epoch 8900/10000] [MSE loss: 0.028971] [G loss: 23.710380] [D loss: 2.927757] [Q loss: 1.031459] [Phy loss: 7.879536] [Adv G loss: 23.321560]\n",
      "[Epoch 9000/10000] [MSE loss: 0.029439] [G loss: 23.451885] [D loss: 1.998878] [Q loss: 1.008681] [Phy loss: 6.246160] [Adv G loss: 23.071113]\n",
      "[Epoch 9100/10000] [MSE loss: 0.023717] [G loss: 17.517668] [D loss: 6.107417] [Q loss: 1.194303] [Phy loss: 6.758150] [Adv G loss: 17.106696]\n",
      "[Epoch 9200/10000] [MSE loss: 0.038714] [G loss: 19.050665] [D loss: 3.553720] [Q loss: 1.002817] [Phy loss: 8.499477] [Adv G loss: 18.564179]\n",
      "[Epoch 9300/10000] [MSE loss: 0.037207] [G loss: 15.077319] [D loss: 2.135886] [Q loss: 0.921115] [Phy loss: 7.396167] [Adv G loss: 14.592904]\n",
      "[Epoch 9400/10000] [MSE loss: 0.033979] [G loss: 20.600678] [D loss: 6.441777] [Q loss: 0.627136] [Phy loss: 7.503693] [Adv G loss: 20.321977]\n",
      "[Epoch 9500/10000] [MSE loss: 0.023139] [G loss: 25.502191] [D loss: 3.909150] [Q loss: 0.820700] [Phy loss: 6.335993] [Adv G loss: 25.141516]\n",
      "[Epoch 9600/10000] [MSE loss: 0.033358] [G loss: 21.390784] [D loss: 4.176990] [Q loss: 0.871904] [Phy loss: 7.348727] [Adv G loss: 20.857195]\n",
      "[Epoch 9700/10000] [MSE loss: 0.024399] [G loss: 21.024144] [D loss: 3.095279] [Q loss: 0.801605] [Phy loss: 6.664387] [Adv G loss: 20.691585]\n",
      "[Epoch 9800/10000] [MSE loss: 0.022745] [G loss: 17.323148] [D loss: 2.423750] [Q loss: 0.669551] [Phy loss: 7.208223] [Adv G loss: 16.946493]\n",
      "[Epoch 9900/10000] [MSE loss: 0.030768] [G loss: 20.547227] [D loss: 2.992778] [Q loss: 0.786617] [Phy loss: 6.907017] [Adv G loss: 20.211053]\n"
     ]
    }
   ],
   "source": [
    "cGAN.train()"
   ]
  },
  {
   "cell_type": "code",
   "execution_count": 8,
   "metadata": {},
   "outputs": [
    {
     "name": "stdout",
     "output_type": "stream",
     "text": [
      "MSE on Training Set :  0.40761125\n",
      "Physical Consistency:  1.183105\n"
     ]
    }
   ],
   "source": [
    "nsamples = 500\n",
    "train_predictions_list = []\n",
    "for run in range(nsamples):\n",
    "    G_train_noise = cGAN.sample_noise(cGAN.train_x.shape[0], cGAN.noise_dim).to(device)\n",
    "    train_predictions = cGAN.G.forward(torch.cat([cGAN.train_x, G_train_noise], dim=1)).detach().cpu().numpy()\n",
    "    train_predictions = (train_predictions * cGAN.Ystd) + cGAN.Ymean\n",
    "    train_predictions_list.append(train_predictions)\n",
    "\n",
    "train_predictions = np.mean(train_predictions_list, axis=0)\n",
    "train_predictions_dev = np.var(train_predictions_list, axis=0)\n",
    "train_predictions = torch.Tensor(train_predictions).float().to(device)\n",
    "\n",
    "std_y_t = torch.Tensor(cGAN.Ystd).float().to(device)\n",
    "mean_y_t = torch.Tensor(cGAN.Ymean).float().to(device)\n",
    "std_x_t = torch.Tensor(cGAN.Xstd).float().to(device)\n",
    "mean_x_t = torch.Tensor(cGAN.Xmean).float().to(device)\n",
    "\n",
    "train_y = (cGAN.train_y * std_y_t) + mean_y_t\n",
    "train_x = (cGAN.train_x * std_x_t) + mean_x_t\n",
    "\n",
    "mse_train = ((train_predictions - train_y)**2).mean()\n",
    "phy_train = torch.mean(cGAN.physics_loss(train_x, train_predictions, [0, 1], [0, 1])).detach().cpu().numpy()\n",
    "\n",
    "print(\"MSE on Training Set : \", mse_train.detach().cpu().numpy())\n",
    "print(\"Physical Consistency: \", phy_train)"
   ]
  },
  {
   "cell_type": "code",
   "execution_count": 9,
   "metadata": {},
   "outputs": [
    {
     "name": "stdout",
     "output_type": "stream",
     "text": [
      "MSE on Test Set :  0.7447767\n",
      "Physical Consistency:  1.778059\n"
     ]
    }
   ],
   "source": [
    "test_predictions_list = []\n",
    "for run in range(nsamples):\n",
    "    G_test_noise = cGAN.sample_noise(cGAN.test_x.shape[0], cGAN.noise_dim).to(device)\n",
    "    test_predictions = cGAN.G.forward(torch.cat([cGAN.test_x, G_test_noise], dim=1)).detach().cpu().numpy()\n",
    "    test_predictions = (test_predictions * cGAN.Ystd) + cGAN.Ymean\n",
    "    test_predictions_list.append(test_predictions)\n",
    "\n",
    "test_predictions = np.mean(test_predictions_list, axis=0)\n",
    "test_predictions_dev = np.var(test_predictions_list, axis=0)\n",
    "test_predictions = torch.Tensor(test_predictions).float().to(device)\n",
    "\n",
    "test_y = (cGAN.test_y * std_y_t) + mean_y_t\n",
    "test_x = (cGAN.test_x * std_x_t) + mean_x_t\n",
    "\n",
    "mse_test = ((test_predictions - test_y)**2).mean()\n",
    "phy_test = torch.mean(cGAN.physics_loss(test_x, test_predictions, [0, 1], [0, 1])).detach().cpu().numpy()\n",
    "\n",
    "print(\"MSE on Test Set : \", mse_test.detach().cpu().numpy())\n",
    "print(\"Physical Consistency: \", phy_test)"
   ]
  },
  {
   "cell_type": "code",
   "execution_count": null,
   "metadata": {},
   "outputs": [],
   "source": []
  }
 ],
 "metadata": {
  "kernelspec": {
   "display_name": "Python 3",
   "language": "python",
   "name": "python3"
  },
  "language_info": {
   "codemirror_mode": {
    "name": "ipython",
    "version": 3
   },
   "file_extension": ".py",
   "mimetype": "text/x-python",
   "name": "python",
   "nbconvert_exporter": "python",
   "pygments_lexer": "ipython3",
   "version": "3.7.6"
  }
 },
 "nbformat": 4,
 "nbformat_minor": 4
}
