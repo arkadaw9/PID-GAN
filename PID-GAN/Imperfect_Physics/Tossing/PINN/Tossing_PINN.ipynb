{
 "cells": [
  {
   "cell_type": "code",
   "execution_count": 1,
   "metadata": {},
   "outputs": [],
   "source": [
    "import sys\n",
    "import argparse\n",
    "import os\n",
    "import torch\n",
    "from collections import OrderedDict\n",
    "import math\n",
    "import numpy as np\n",
    "import matplotlib.pyplot as plt\n",
    "import scipy.io\n",
    "from scipy.interpolate import griddata\n",
    "from mpl_toolkits.axes_grid1 import make_axes_locatable\n",
    "import matplotlib.gridspec as gridspec\n",
    "import torchvision.transforms as transforms\n",
    "from torchvision.utils import save_image\n",
    "from torch.utils.data import TensorDataset, DataLoader\n",
    "from torchvision import datasets\n",
    "from torch.autograd import Variable\n",
    "import torch.nn as nn\n",
    "import torch.nn.functional as F\n",
    "import torch\n",
    "import seaborn as sns\n",
    "import pylab as py\n",
    "import time\n",
    "from pyDOE import lhs\n",
    "import warnings\n",
    "sys.path.insert(0, '../../../Scripts/')\n",
    "from models_imperfect import PGNN\n",
    "from pinn import *\n",
    "# from ../Scripts/helper import *\n",
    "\n",
    "warnings.filterwarnings('ignore')\n",
    "\n",
    "np.random.seed(1234)"
   ]
  },
  {
   "cell_type": "code",
   "execution_count": 2,
   "metadata": {},
   "outputs": [],
   "source": [
    "# CUDA support \n",
    "if torch.cuda.is_available():\n",
    "    device = torch.device('cuda:3')\n",
    "else:\n",
    "    device = torch.device('cpu')"
   ]
  },
  {
   "cell_type": "markdown",
   "metadata": {},
   "source": [
    "## Hyper-parameters"
   ]
  },
  {
   "cell_type": "code",
   "execution_count": 3,
   "metadata": {},
   "outputs": [],
   "source": [
    "num_epochs = 10000\n",
    "lambda_val = 1\n",
    "tr_frac = 0.4\n",
    "\n",
    "#architecture for the models\n",
    "net_hid_dim = 50\n",
    "net_num_layer = 4"
   ]
  },
  {
   "cell_type": "markdown",
   "metadata": {},
   "source": [
    "### Load Data"
   ]
  },
  {
   "cell_type": "code",
   "execution_count": 4,
   "metadata": {},
   "outputs": [],
   "source": [
    "data = np.loadtxt('../../../datasets/tossing_trajectories.txt')\n",
    "x = data[:, 0:6]\n",
    "labels = data[:, 6:]\n",
    "\n",
    "# training and test split\n",
    "n_obs = int(tr_frac * x.shape[0])\n",
    "train_x , train_y = x[:n_obs,:] , labels[:n_obs, :] \n",
    "test_x , test_y = x[n_obs:,:] , labels[n_obs:, :]\n",
    "\n",
    "data_dim = train_x.shape[1]\n",
    "out_dim = labels.shape[1]"
   ]
  },
  {
   "cell_type": "markdown",
   "metadata": {},
   "source": [
    "#### Models"
   ]
  },
  {
   "cell_type": "code",
   "execution_count": 5,
   "metadata": {},
   "outputs": [],
   "source": [
    "net = PGNN(in_dim = data_dim, out_dim = out_dim, hid_dim=net_hid_dim, num_layers=net_num_layer).to(device)"
   ]
  },
  {
   "cell_type": "code",
   "execution_count": 6,
   "metadata": {},
   "outputs": [],
   "source": [
    "PINN = Tossing_PINN(train_x, train_y, test_x, test_y, net, device, num_epochs, lambda_val)"
   ]
  },
  {
   "cell_type": "markdown",
   "metadata": {},
   "source": [
    "### Training"
   ]
  },
  {
   "cell_type": "code",
   "execution_count": 7,
   "metadata": {},
   "outputs": [
    {
     "name": "stdout",
     "output_type": "stream",
     "text": [
      "[Epoch 0/10000] [MSE loss: 1.005757] [Phy loss: 111.047653] [Total loss: 112.053411]\n",
      "[Epoch 100/10000] [MSE loss: 0.066064] [Phy loss: 8.648100] [Total loss: 8.714163]\n",
      "[Epoch 200/10000] [MSE loss: 0.069571] [Phy loss: 5.922823] [Total loss: 5.992394]\n",
      "[Epoch 300/10000] [MSE loss: 0.055163] [Phy loss: 5.524343] [Total loss: 5.579506]\n",
      "[Epoch 400/10000] [MSE loss: 0.052859] [Phy loss: 5.066592] [Total loss: 5.119451]\n",
      "[Epoch 500/10000] [MSE loss: 0.050131] [Phy loss: 4.833365] [Total loss: 4.883495]\n",
      "[Epoch 600/10000] [MSE loss: 0.063434] [Phy loss: 4.741381] [Total loss: 4.804815]\n",
      "[Epoch 700/10000] [MSE loss: 0.042832] [Phy loss: 4.510007] [Total loss: 4.552840]\n",
      "[Epoch 800/10000] [MSE loss: 0.075011] [Phy loss: 4.587468] [Total loss: 4.662480]\n",
      "[Epoch 900/10000] [MSE loss: 0.047799] [Phy loss: 4.562764] [Total loss: 4.610564]\n",
      "[Epoch 1000/10000] [MSE loss: 0.063854] [Phy loss: 4.468031] [Total loss: 4.531885]\n",
      "[Epoch 1100/10000] [MSE loss: 0.055971] [Phy loss: 4.281302] [Total loss: 4.337273]\n",
      "[Epoch 1200/10000] [MSE loss: 0.051682] [Phy loss: 4.041825] [Total loss: 4.093507]\n",
      "[Epoch 1300/10000] [MSE loss: 0.050804] [Phy loss: 4.390365] [Total loss: 4.441169]\n",
      "[Epoch 1400/10000] [MSE loss: 0.042269] [Phy loss: 4.298509] [Total loss: 4.340779]\n",
      "[Epoch 1500/10000] [MSE loss: 0.044471] [Phy loss: 4.228833] [Total loss: 4.273304]\n",
      "[Epoch 1600/10000] [MSE loss: 0.056549] [Phy loss: 3.960156] [Total loss: 4.016706]\n",
      "[Epoch 1700/10000] [MSE loss: 0.044120] [Phy loss: 3.969188] [Total loss: 4.013308]\n",
      "[Epoch 1800/10000] [MSE loss: 0.059086] [Phy loss: 3.860527] [Total loss: 3.919612]\n",
      "[Epoch 1900/10000] [MSE loss: 0.068156] [Phy loss: 4.153276] [Total loss: 4.221431]\n",
      "[Epoch 2000/10000] [MSE loss: 0.051467] [Phy loss: 4.051171] [Total loss: 4.102638]\n",
      "[Epoch 2100/10000] [MSE loss: 0.042909] [Phy loss: 3.873924] [Total loss: 3.916833]\n",
      "[Epoch 2200/10000] [MSE loss: 0.039376] [Phy loss: 3.780366] [Total loss: 3.819742]\n",
      "[Epoch 2300/10000] [MSE loss: 0.048973] [Phy loss: 3.953494] [Total loss: 4.002467]\n",
      "[Epoch 2400/10000] [MSE loss: 0.061500] [Phy loss: 3.860026] [Total loss: 3.921525]\n",
      "[Epoch 2500/10000] [MSE loss: 0.061458] [Phy loss: 3.705718] [Total loss: 3.767176]\n",
      "[Epoch 2600/10000] [MSE loss: 0.047301] [Phy loss: 3.641299] [Total loss: 3.688600]\n",
      "[Epoch 2700/10000] [MSE loss: 0.078219] [Phy loss: 3.608444] [Total loss: 3.686663]\n",
      "[Epoch 2800/10000] [MSE loss: 0.042350] [Phy loss: 3.846629] [Total loss: 3.888978]\n",
      "[Epoch 2900/10000] [MSE loss: 0.039594] [Phy loss: 3.688434] [Total loss: 3.728028]\n",
      "[Epoch 3000/10000] [MSE loss: 0.052657] [Phy loss: 3.665793] [Total loss: 3.718450]\n",
      "[Epoch 3100/10000] [MSE loss: 0.079317] [Phy loss: 4.024119] [Total loss: 4.103435]\n",
      "[Epoch 3200/10000] [MSE loss: 0.050788] [Phy loss: 3.670340] [Total loss: 3.721129]\n",
      "[Epoch 3300/10000] [MSE loss: 0.044753] [Phy loss: 3.698876] [Total loss: 3.743629]\n",
      "[Epoch 3400/10000] [MSE loss: 0.048213] [Phy loss: 3.700624] [Total loss: 3.748837]\n",
      "[Epoch 3500/10000] [MSE loss: 0.034174] [Phy loss: 3.783098] [Total loss: 3.817272]\n",
      "[Epoch 3600/10000] [MSE loss: 0.039962] [Phy loss: 3.655351] [Total loss: 3.695313]\n",
      "[Epoch 3700/10000] [MSE loss: 0.048365] [Phy loss: 3.891414] [Total loss: 3.939779]\n",
      "[Epoch 3800/10000] [MSE loss: 0.037716] [Phy loss: 3.765099] [Total loss: 3.802815]\n",
      "[Epoch 3900/10000] [MSE loss: 0.061865] [Phy loss: 3.789973] [Total loss: 3.851838]\n",
      "[Epoch 4000/10000] [MSE loss: 0.056704] [Phy loss: 3.790121] [Total loss: 3.846825]\n",
      "[Epoch 4100/10000] [MSE loss: 0.038394] [Phy loss: 3.805533] [Total loss: 3.843928]\n",
      "[Epoch 4200/10000] [MSE loss: 0.041128] [Phy loss: 3.722126] [Total loss: 3.763254]\n",
      "[Epoch 4300/10000] [MSE loss: 0.056075] [Phy loss: 3.674668] [Total loss: 3.730743]\n",
      "[Epoch 4400/10000] [MSE loss: 0.052847] [Phy loss: 3.728882] [Total loss: 3.781728]\n",
      "[Epoch 4500/10000] [MSE loss: 0.085777] [Phy loss: 3.725567] [Total loss: 3.811344]\n",
      "[Epoch 4600/10000] [MSE loss: 0.096929] [Phy loss: 3.819188] [Total loss: 3.916117]\n",
      "[Epoch 4700/10000] [MSE loss: 0.066670] [Phy loss: 3.680748] [Total loss: 3.747417]\n",
      "[Epoch 4800/10000] [MSE loss: 0.055321] [Phy loss: 3.637830] [Total loss: 3.693151]\n",
      "[Epoch 4900/10000] [MSE loss: 0.068355] [Phy loss: 3.561052] [Total loss: 3.629407]\n",
      "[Epoch 5000/10000] [MSE loss: 0.053699] [Phy loss: 3.750333] [Total loss: 3.804032]\n",
      "[Epoch 5100/10000] [MSE loss: 0.039648] [Phy loss: 3.604607] [Total loss: 3.644255]\n",
      "[Epoch 5200/10000] [MSE loss: 0.047687] [Phy loss: 3.857491] [Total loss: 3.905179]\n",
      "[Epoch 5300/10000] [MSE loss: 0.043542] [Phy loss: 3.705418] [Total loss: 3.748959]\n",
      "[Epoch 5400/10000] [MSE loss: 0.058137] [Phy loss: 3.609855] [Total loss: 3.667993]\n",
      "[Epoch 5500/10000] [MSE loss: 0.042357] [Phy loss: 3.654778] [Total loss: 3.697135]\n",
      "[Epoch 5600/10000] [MSE loss: 0.048804] [Phy loss: 3.840442] [Total loss: 3.889247]\n",
      "[Epoch 5700/10000] [MSE loss: 0.054505] [Phy loss: 3.656555] [Total loss: 3.711060]\n",
      "[Epoch 5800/10000] [MSE loss: 0.046572] [Phy loss: 3.794780] [Total loss: 3.841352]\n",
      "[Epoch 5900/10000] [MSE loss: 0.064092] [Phy loss: 3.711473] [Total loss: 3.775565]\n",
      "[Epoch 6000/10000] [MSE loss: 0.045992] [Phy loss: 3.821124] [Total loss: 3.867116]\n",
      "[Epoch 6100/10000] [MSE loss: 0.061562] [Phy loss: 3.635202] [Total loss: 3.696764]\n",
      "[Epoch 6200/10000] [MSE loss: 0.047972] [Phy loss: 3.397158] [Total loss: 3.445130]\n",
      "[Epoch 6300/10000] [MSE loss: 0.105823] [Phy loss: 3.626062] [Total loss: 3.731885]\n",
      "[Epoch 6400/10000] [MSE loss: 0.052969] [Phy loss: 3.814223] [Total loss: 3.867192]\n",
      "[Epoch 6500/10000] [MSE loss: 0.054704] [Phy loss: 3.381378] [Total loss: 3.436082]\n",
      "[Epoch 6600/10000] [MSE loss: 0.052985] [Phy loss: 3.556263] [Total loss: 3.609248]\n",
      "[Epoch 6700/10000] [MSE loss: 0.055356] [Phy loss: 3.694261] [Total loss: 3.749617]\n",
      "[Epoch 6800/10000] [MSE loss: 0.045729] [Phy loss: 3.594142] [Total loss: 3.639871]\n",
      "[Epoch 6900/10000] [MSE loss: 0.061464] [Phy loss: 3.466870] [Total loss: 3.528335]\n",
      "[Epoch 7000/10000] [MSE loss: 0.054173] [Phy loss: 3.516400] [Total loss: 3.570573]\n",
      "[Epoch 7100/10000] [MSE loss: 0.060602] [Phy loss: 3.519787] [Total loss: 3.580389]\n",
      "[Epoch 7200/10000] [MSE loss: 0.039324] [Phy loss: 3.583845] [Total loss: 3.623170]\n",
      "[Epoch 7300/10000] [MSE loss: 0.053087] [Phy loss: 3.442973] [Total loss: 3.496060]\n",
      "[Epoch 7400/10000] [MSE loss: 0.055145] [Phy loss: 3.390845] [Total loss: 3.445990]\n",
      "[Epoch 7500/10000] [MSE loss: 0.046641] [Phy loss: 3.602255] [Total loss: 3.648896]\n",
      "[Epoch 7600/10000] [MSE loss: 0.050273] [Phy loss: 3.548742] [Total loss: 3.599015]\n",
      "[Epoch 7700/10000] [MSE loss: 0.058771] [Phy loss: 3.572843] [Total loss: 3.631614]\n",
      "[Epoch 7800/10000] [MSE loss: 0.050882] [Phy loss: 3.666441] [Total loss: 3.717323]\n",
      "[Epoch 7900/10000] [MSE loss: 0.040748] [Phy loss: 3.712825] [Total loss: 3.753574]\n",
      "[Epoch 8000/10000] [MSE loss: 0.043957] [Phy loss: 3.708276] [Total loss: 3.752233]\n",
      "[Epoch 8100/10000] [MSE loss: 0.068004] [Phy loss: 3.747716] [Total loss: 3.815719]\n",
      "[Epoch 8200/10000] [MSE loss: 0.073738] [Phy loss: 3.549066] [Total loss: 3.622804]\n",
      "[Epoch 8300/10000] [MSE loss: 0.040620] [Phy loss: 3.542116] [Total loss: 3.582736]\n",
      "[Epoch 8400/10000] [MSE loss: 0.056717] [Phy loss: 3.676827] [Total loss: 3.733543]\n",
      "[Epoch 8500/10000] [MSE loss: 0.066928] [Phy loss: 3.456562] [Total loss: 3.523491]\n",
      "[Epoch 8600/10000] [MSE loss: 0.047753] [Phy loss: 3.460405] [Total loss: 3.508159]\n",
      "[Epoch 8700/10000] [MSE loss: 0.053624] [Phy loss: 3.432214] [Total loss: 3.485838]\n",
      "[Epoch 8800/10000] [MSE loss: 0.052310] [Phy loss: 3.432733] [Total loss: 3.485043]\n",
      "[Epoch 8900/10000] [MSE loss: 0.044107] [Phy loss: 3.475712] [Total loss: 3.519819]\n",
      "[Epoch 9000/10000] [MSE loss: 0.053900] [Phy loss: 3.552933] [Total loss: 3.606832]\n",
      "[Epoch 9100/10000] [MSE loss: 0.058891] [Phy loss: 3.590835] [Total loss: 3.649726]\n",
      "[Epoch 9200/10000] [MSE loss: 0.051263] [Phy loss: 3.440713] [Total loss: 3.491975]\n",
      "[Epoch 9300/10000] [MSE loss: 0.059582] [Phy loss: 3.719312] [Total loss: 3.778894]\n",
      "[Epoch 9400/10000] [MSE loss: 0.048202] [Phy loss: 3.534623] [Total loss: 3.582824]\n",
      "[Epoch 9500/10000] [MSE loss: 0.048819] [Phy loss: 3.396508] [Total loss: 3.445327]\n",
      "[Epoch 9600/10000] [MSE loss: 0.041075] [Phy loss: 3.481427] [Total loss: 3.522503]\n",
      "[Epoch 9700/10000] [MSE loss: 0.057973] [Phy loss: 3.659661] [Total loss: 3.717634]\n",
      "[Epoch 9800/10000] [MSE loss: 0.061700] [Phy loss: 3.439148] [Total loss: 3.500848]\n",
      "[Epoch 9900/10000] [MSE loss: 0.049455] [Phy loss: 3.543912] [Total loss: 3.593366]\n"
     ]
    }
   ],
   "source": [
    "PINN.train()"
   ]
  },
  {
   "cell_type": "code",
   "execution_count": 8,
   "metadata": {},
   "outputs": [
    {
     "name": "stdout",
     "output_type": "stream",
     "text": [
      "MSE on Training Set :  0.638994\n",
      "Physical Consistency:  0.5296485\n"
     ]
    }
   ],
   "source": [
    "nsamples = 500\n",
    "train_mean_y, train_std_y = PINN.uncertainity_estimate(PINN.train_x, nsamples, [PINN.Ymean, PINN.Ystd])\n",
    "\n",
    "train_predictions = torch.Tensor(train_mean_y).float().to(device)\n",
    "\n",
    "std_y_t = torch.Tensor(PINN.Ystd).float().to(device)\n",
    "mean_y_t = torch.Tensor(PINN.Ymean).float().to(device)\n",
    "std_x_t = torch.Tensor(PINN.Xstd).float().to(device)\n",
    "mean_x_t = torch.Tensor(PINN.Xmean).float().to(device)\n",
    "\n",
    "train_y = (PINN.train_y * std_y_t) + mean_y_t\n",
    "train_x = (PINN.train_x * std_x_t) + mean_x_t\n",
    "\n",
    "mse_train = ((train_predictions - train_y)**2).mean()\n",
    "phy_train = torch.mean(PINN.physics_loss(train_x, train_predictions, [0, 1], [0, 1])).detach().cpu().numpy()\n",
    "\n",
    "print(\"MSE on Training Set : \", mse_train.detach().cpu().numpy())\n",
    "print(\"Physical Consistency: \", phy_train)"
   ]
  },
  {
   "cell_type": "code",
   "execution_count": 9,
   "metadata": {},
   "outputs": [
    {
     "name": "stdout",
     "output_type": "stream",
     "text": [
      "MSE on Test Set :  0.7067647\n",
      "Physical Consistency:  0.5398416\n"
     ]
    }
   ],
   "source": [
    "test_mean_y, test_std_y = PINN.uncertainity_estimate(PINN.test_x, nsamples, [PINN.Ymean, PINN.Ystd])\n",
    "\n",
    "test_predictions = torch.Tensor(test_mean_y).float().to(device)\n",
    "\n",
    "test_y = (PINN.test_y * std_y_t) + mean_y_t\n",
    "test_x = (PINN.test_x * std_x_t) + mean_x_t\n",
    "\n",
    "mse_test = ((test_predictions - test_y)**2).mean()\n",
    "phy_test = torch.mean(PINN.physics_loss(test_x, test_predictions, [0, 1], [0, 1])).detach().cpu().numpy()\n",
    "\n",
    "print(\"MSE on Test Set : \", mse_test.detach().cpu().numpy())\n",
    "print(\"Physical Consistency: \", phy_test)"
   ]
  },
  {
   "cell_type": "code",
   "execution_count": null,
   "metadata": {},
   "outputs": [],
   "source": []
  }
 ],
 "metadata": {
  "kernelspec": {
   "display_name": "Python 3",
   "language": "python",
   "name": "python3"
  },
  "language_info": {
   "codemirror_mode": {
    "name": "ipython",
    "version": 3
   },
   "file_extension": ".py",
   "mimetype": "text/x-python",
   "name": "python",
   "nbconvert_exporter": "python",
   "pygments_lexer": "ipython3",
   "version": "3.7.6"
  }
 },
 "nbformat": 4,
 "nbformat_minor": 4
}
